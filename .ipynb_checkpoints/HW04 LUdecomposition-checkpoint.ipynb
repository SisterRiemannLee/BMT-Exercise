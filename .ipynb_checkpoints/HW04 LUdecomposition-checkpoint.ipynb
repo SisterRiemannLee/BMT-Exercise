{
 "cells": [
  {
   "attachments": {},
   "cell_type": "markdown",
   "metadata": {},
   "source": [
    "![title](Images\\Pic_4_a.png)"
   ]
  },
  {
   "cell_type": "code",
   "execution_count": 1,
   "metadata": {},
   "outputs": [],
   "source": [
    "# Lecture \"Basic Math Tools\"\n",
    "# Supplementary Material\n",
    "#\n",
    "# Technische Universität München, Fakultät für Informatik\n",
    "# Anca Stefanoiu\n",
    "# 2018\n",
    "\n",
    "import numpy as np\n",
    "import scipy.linalg\n",
    "\n",
    "# Make nice array output\n",
    "np.set_printoptions(precision = 3)\n",
    "\n",
    "def namestr(obj, namespace = globals()):\n",
    "    return [name for name in namespace if namespace[name] is obj][0]\n",
    "\n",
    "def printVariable(array):\n",
    "    print(\"{}: \".format(namestr(array)))\n",
    "    print(array.astype('f'))\n",
    "\n",
    "def my_lu(A, printRank):\n",
    "    \n",
    "    if (A.shape[0] == 1) and (A.shape[1] == 1):\n",
    "        L = np.zeros((1,1))\n",
    "        L[0,0] = 1\n",
    "        U = A;\n",
    "    else:\n",
    "        # initialize auxiliary vectors\n",
    "        x = np.zeros( (A.shape[1] - 1, 1) )\n",
    "        w = np.zeros( (A.shape[0] - 1, 1) )\n",
    "        \n",
    "        \n",
    "        gamma = A[0,0]\n",
    "        x[:,0] = A[0,1:A.shape[1]]\n",
    "        w[:,0] = A[1:A.shape[0],0]/gamma\n",
    "        wxt = w*x.T\n",
    "        \n",
    "        if (printRank):\n",
    "            print(\"w*xT Matrix:\\n\", wxt, \" with rank \", np.linalg.matrix_rank(wxt), \"\\n\")\n",
    "    \n",
    "        [L_, U_] = my_lu((A[1:A.shape[0],1:A.shape[1]] - wxt), printRank)\n",
    "\n",
    "        # assemble L matrix\n",
    "        L_upRow = np.zeros( (1, A.shape[1]) ) \n",
    "        L_upRow[0,0] = 1\n",
    "        wL_ = np.concatenate((w, L_), axis = 1)\n",
    "        L = np.concatenate((L_upRow, wL_), axis = 0)\n",
    "\n",
    "        # assemble U matrix\n",
    "        gammaX = np.zeros( (1, A.shape[1]) ) \n",
    "        gammaX[0,0] = gamma\n",
    "        gammaX[0,1:gammaX.shape[1]] = np.transpose(x[:,0])\n",
    "        U_leftCol = np.zeros( (A.shape[0] - 1, 1) )\n",
    "        U_ext = np.concatenate((U_leftCol, U_), axis = 1)\n",
    "        U = np.concatenate((gammaX, U_ext), axis = 0)\n",
    "\n",
    "    return [L, U]"
   ]
  },
  {
   "cell_type": "markdown",
   "metadata": {},
   "source": [
    "![title](Images\\Pic_4_b.png)"
   ]
  },
  {
   "cell_type": "code",
   "execution_count": 2,
   "metadata": {},
   "outputs": [
    {
     "name": "stdout",
     "output_type": "stream",
     "text": [
      "w*xT Matrix:\n",
      " [[0.516 0.152 0.363 0.273]\n",
      " [1.52  0.448 1.07  0.804]\n",
      " [0.957 0.282 0.674 0.506]\n",
      " [1.327 0.391 0.934 0.702]]  with rank  1 \n",
      "\n",
      "w*xT Matrix:\n",
      " [[121.581  61.735  91.189]\n",
      " [ 53.113  26.969  39.837]\n",
      " [120.26   61.064  90.199]]  with rank  1 \n",
      "\n",
      "w*xT Matrix:\n",
      " [[-27.155 -39.767]\n",
      " [-61.631 -90.254]]  with rank  1 \n",
      "\n",
      "w*xT Matrix:\n",
      " [[0.138]]  with rank  1 \n",
      "\n"
     ]
    }
   ],
   "source": [
    "# Initialize random array\n",
    "A = np.random.rand(5, 5)\n",
    "\n",
    "# Compute rank of w*xT interediate matrices\n",
    "printRank = 1\n",
    "[myL, myU] = my_lu(A, printRank)"
   ]
  },
  {
   "cell_type": "markdown",
   "metadata": {},
   "source": [
    "![title](Images\\Pic_4_c.png)"
   ]
  },
  {
   "cell_type": "code",
   "execution_count": 3,
   "metadata": {},
   "outputs": [
    {
     "name": "stdout",
     "output_type": "stream",
     "text": [
      "myL: \n",
      "[[ 1.  0.  0.  0.  0.]\n",
      " [inf  1.  0.  0.  0.]\n",
      " [inf nan  1.  0.  0.]\n",
      " [inf nan nan  1.  0.]\n",
      " [inf nan nan nan  1.]]\n",
      "myU: \n",
      "[[0.    0.917 0.27  0.646 0.485]\n",
      " [0.     -inf  -inf  -inf  -inf]\n",
      " [0.    0.      nan   nan   nan]\n",
      " [0.    0.    0.      nan   nan]\n",
      " [0.    0.    0.    0.      nan]]\n"
     ]
    },
    {
     "name": "stderr",
     "output_type": "stream",
     "text": [
      "C:\\ProgramData\\Anaconda3\\lib\\site-packages\\ipykernel_launcher.py:35: RuntimeWarning: divide by zero encountered in true_divide\n",
      "C:\\ProgramData\\Anaconda3\\lib\\site-packages\\ipykernel_launcher.py:35: RuntimeWarning: invalid value encountered in true_divide\n"
     ]
    }
   ],
   "source": [
    "# Test Implementation for special matrix\n",
    "# Make the first element zero\n",
    "A[0,0] = 0\n",
    "\n",
    "# Compute LU decomposition\n",
    "printRank = 0\n",
    "[myL, myU] = my_lu(A, printRank)\n",
    "\n",
    "# Visualize L and U matrices\n",
    "printVariable(myL)\n",
    "printVariable(myU)"
   ]
  },
  {
   "cell_type": "markdown",
   "metadata": {},
   "source": [
    "![title](Images\\Pic_4_d.png)"
   ]
  },
  {
   "cell_type": "code",
   "execution_count": 4,
   "metadata": {},
   "outputs": [
    {
     "name": "stdout",
     "output_type": "stream",
     "text": [
      "myL: \n",
      "[[1.    0.    0.    0.    0.   ]\n",
      " [0.168 1.    0.    0.    0.   ]\n",
      " [0.065 0.134 1.    0.    0.   ]\n",
      " [0.083 0.132 0.154 1.    0.   ]\n",
      " [0.083 0.125 0.133 0.1   1.   ]]\n",
      "myU: \n",
      "[[ 5.486  0.284  0.816  0.98   0.279]\n",
      " [ 0.     4.956  0.639  0.016  0.016]\n",
      " [ 0.     0.     4.905  0.484  0.573]\n",
      " [ 0.     0.     0.     5.528 -0.109]\n",
      " [ 0.     0.     0.     0.     5.053]]\n",
      "L: \n",
      "[[1.    0.    0.    0.    0.   ]\n",
      " [0.168 1.    0.    0.    0.   ]\n",
      " [0.065 0.134 1.    0.    0.   ]\n",
      " [0.083 0.132 0.154 1.    0.   ]\n",
      " [0.083 0.125 0.133 0.1   1.   ]]\n",
      "U: \n",
      "[[ 5.486  0.284  0.816  0.98   0.279]\n",
      " [ 0.     4.956  0.639  0.016  0.016]\n",
      " [ 0.     0.     4.905  0.484  0.573]\n",
      " [ 0.     0.     0.     5.528 -0.109]\n",
      " [ 0.     0.     0.     0.     5.053]]\n",
      "P: \n",
      "[[1. 0. 0. 0. 0.]\n",
      " [0. 1. 0. 0. 0.]\n",
      " [0. 0. 1. 0. 0.]\n",
      " [0. 0. 0. 1. 0.]\n",
      " [0. 0. 0. 0. 1.]]\n"
     ]
    }
   ],
   "source": [
    "# Compare my implementation with Python's for diagonally dominant matrices\n",
    "A = np.random.rand(5, 5) + 5*np.eye(5)\n",
    "\n",
    "# Compute my LU decomposition\n",
    "printRank = 0\n",
    "[myL, myU] = my_lu(A, printRank)\n",
    "\n",
    "# Compute Python's LU decomposition (Note this is an LUP with P = LU[0]).... P*A = L*U \n",
    "LU = scipy.linalg.lu(A)\n",
    "L = LU[1]\n",
    "U = LU[2]\n",
    "P = LU[0]\n",
    "\n",
    "# Visualize L and U matrices\n",
    "printVariable(myL)\n",
    "printVariable(myU)\n",
    "printVariable(L)\n",
    "printVariable(U)\n",
    "printVariable(P)"
   ]
  },
  {
   "cell_type": "code",
   "execution_count": 5,
   "metadata": {},
   "outputs": [
    {
     "name": "stdout",
     "output_type": "stream",
     "text": [
      "A: \n",
      "[[5.486e+00 2.842e-01 8.159e-01 9.801e-01 2.792e-01]\n",
      " [9.209e-01 5.004e+00 7.760e-01 1.803e-01 6.307e-02]\n",
      " [3.570e-01 6.805e-01 5.043e+00 5.503e-01 5.930e-01]\n",
      " [4.528e-01 6.794e-01 9.089e-01 5.686e+00 4.337e-03]\n",
      " [4.548e-01 6.435e-01 8.001e-01 6.983e-01 5.143e+00]]\n",
      "myA: \n",
      "[[5.486e+00 2.842e-01 8.159e-01 9.801e-01 2.792e-01]\n",
      " [9.209e-01 5.004e+00 7.760e-01 1.803e-01 6.307e-02]\n",
      " [3.570e-01 6.805e-01 5.043e+00 5.503e-01 5.930e-01]\n",
      " [4.528e-01 6.794e-01 9.089e-01 5.686e+00 4.337e-03]\n",
      " [4.548e-01 6.435e-01 8.001e-01 6.983e-01 5.143e+00]]\n",
      "pyA: \n",
      "[[5.486e+00 2.842e-01 8.159e-01 9.801e-01 2.792e-01]\n",
      " [9.209e-01 5.004e+00 7.760e-01 1.803e-01 6.307e-02]\n",
      " [3.570e-01 6.805e-01 5.043e+00 5.503e-01 5.930e-01]\n",
      " [4.528e-01 6.794e-01 9.089e-01 5.686e+00 4.337e-03]\n",
      " [4.548e-01 6.435e-01 8.001e-01 6.983e-01 5.143e+00]]\n"
     ]
    }
   ],
   "source": [
    "# Verify results\n",
    "printVariable(A)\n",
    "\n",
    "myA = np.dot(myL,myU)\n",
    "printVariable(myA)\n",
    "\n",
    "# LUP factorization  -> P*A = L*U (P is permutation matrix)\n",
    "pyA = np.dot(P, np.dot(L,U))\n",
    "printVariable(pyA)"
   ]
  },
  {
   "cell_type": "code",
   "execution_count": 6,
   "metadata": {},
   "outputs": [
    {
     "name": "stdout",
     "output_type": "stream",
     "text": [
      "myL: \n",
      "[[ 1.     0.     0.     0.     0.   ]\n",
      " [ 1.494  1.     0.     0.     0.   ]\n",
      " [ 0.108 -0.765  1.     0.     0.   ]\n",
      " [ 6.615  5.358 -5.015  1.     0.   ]\n",
      " [ 4.305  2.586 -1.999  0.865  1.   ]]\n",
      "myU: \n",
      "[[ 0.149  0.542  0.106  0.82   0.388]\n",
      " [ 0.    -0.59   0.636 -1.157 -0.567]\n",
      " [ 0.     0.     0.654 -0.524  0.179]\n",
      " [ 0.     0.     0.    -1.026  1.992]\n",
      " [ 0.     0.     0.     0.    -1.466]]\n",
      "L: \n",
      "[[ 1.     0.     0.     0.     0.   ]\n",
      " [ 0.651  1.     0.     0.     0.   ]\n",
      " [ 0.226  0.233  1.     0.     0.   ]\n",
      " [ 0.151  0.899 -0.452  1.     0.   ]\n",
      " [ 0.016  0.946 -0.136  0.547  1.   ]]\n",
      "U: \n",
      "[[ 0.984  0.423  0.828  0.824  0.625]\n",
      " [ 0.     0.531  0.254  0.16  -0.303]\n",
      " [ 0.     0.     0.548 -0.156 -0.058]\n",
      " [ 0.     0.     0.     0.481  0.539]\n",
      " [ 0.     0.     0.     0.     0.627]]\n",
      "P: \n",
      "[[0. 0. 0. 1. 0.]\n",
      " [0. 0. 1. 0. 0.]\n",
      " [0. 0. 0. 0. 1.]\n",
      " [1. 0. 0. 0. 0.]\n",
      " [0. 1. 0. 0. 0.]]\n"
     ]
    }
   ],
   "source": [
    "# Compare my implementation with Python's for non diagonally dominant. Note the permutation matrix P!\n",
    "A = np.random.rand(5, 5)\n",
    "\n",
    "# Compute my LU decomposition\n",
    "printRank = 0\n",
    "[myL, myU] = my_lu(A, printRank)\n",
    "\n",
    "# Compute Python's LU decomposition (Note this is an LUP actually P = LU[0])\n",
    "LU = scipy.linalg.lu(A)\n",
    "L = LU[1]\n",
    "U = LU[2]\n",
    "P = LU[0]\n",
    "\n",
    "# Visualize L and U matrices\n",
    "printVariable(myL)\n",
    "printVariable(myU)\n",
    "printVariable(L)\n",
    "printVariable(U)\n",
    "printVariable(P)"
   ]
  },
  {
   "cell_type": "code",
   "execution_count": 7,
   "metadata": {},
   "outputs": [
    {
     "name": "stdout",
     "output_type": "stream",
     "text": [
      "A: \n",
      "[[0.149 0.542 0.106 0.82  0.388]\n",
      " [0.222 0.219 0.794 0.067 0.012]\n",
      " [0.016 0.509 0.179 0.449 0.654]\n",
      " [0.984 0.423 0.828 0.824 0.625]\n",
      " [0.64  0.807 0.793 0.696 0.104]]\n",
      "myA: \n",
      "[[0.149 0.542 0.106 0.82  0.388]\n",
      " [0.222 0.219 0.794 0.067 0.012]\n",
      " [0.016 0.509 0.179 0.449 0.654]\n",
      " [0.984 0.423 0.828 0.824 0.625]\n",
      " [0.64  0.807 0.793 0.696 0.104]]\n",
      "pyA: \n",
      "[[0.149 0.542 0.106 0.82  0.388]\n",
      " [0.222 0.219 0.794 0.067 0.012]\n",
      " [0.016 0.509 0.179 0.449 0.654]\n",
      " [0.984 0.423 0.828 0.824 0.625]\n",
      " [0.64  0.807 0.793 0.696 0.104]]\n"
     ]
    }
   ],
   "source": [
    "# Verify results\n",
    "printVariable(A)\n",
    "\n",
    "myA = np.dot(myL,myU)\n",
    "printVariable(myA)\n",
    "\n",
    "# LUP factorization  -> P^T*A = L*U (P is permutation matrix)\n",
    "pyA = np.dot(P, np.dot(L,U))\n",
    "printVariable(pyA)"
   ]
  },
  {
   "cell_type": "code",
   "execution_count": null,
   "metadata": {},
   "outputs": [],
   "source": []
  }
 ],
 "metadata": {
  "kernelspec": {
   "display_name": "Python 3",
   "language": "python",
   "name": "python3"
  },
  "language_info": {
   "codemirror_mode": {
    "name": "ipython",
    "version": 3
   },
   "file_extension": ".py",
   "mimetype": "text/x-python",
   "name": "python",
   "nbconvert_exporter": "python",
   "pygments_lexer": "ipython3",
   "version": "3.7.9"
  }
 },
 "nbformat": 4,
 "nbformat_minor": 2
}
