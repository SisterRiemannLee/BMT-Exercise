{
 "cells": [
  {
   "cell_type": "markdown",
   "metadata": {},
   "source": [
    "![title](Pic_1.png)"
   ]
  },
  {
   "cell_type": "code",
   "execution_count": 1,
   "metadata": {},
   "outputs": [],
   "source": [
    "#################################################################\n",
    "#\n",
    "#   qrleastsquares.py\n",
    "#   written by: Walter Simson\n",
    "#               Chair for Computer Aided Medical Procedures\n",
    "#               & Augmented Reality\n",
    "#               Technical University of Munich\n",
    "#               27.10.2017\n",
    "#\n",
    "#################################################################\n",
    "import numpy as np\n",
    "\n",
    "def namestr(obj, namespace=globals()):\n",
    "    return [name for name in namespace if namespace[name] is obj][0]\n",
    "\n",
    "\n",
    "def printVariable(array):\n",
    "    print(\"{}: \".format(namestr(array)))\n",
    "    print(array.astype('f'))\n",
    "\n",
    "\n",
    "def my_qr(A):\n",
    "    # Your implementation of QR decomposition via the Gramm-Schmidt\n",
    "    # method\n",
    "    Q = np.zeros(A.shape)\n",
    "    R = np.zeros((A.shape[1], A.shape[1]))\n",
    "\n",
    "    # Iterate through all columns\n",
    "    for col in range(A.shape[1]):\n",
    "        Q[:, col] = A[:, col]\n",
    "        # Iterate through rows until current column\n",
    "        for row in range(col):\n",
    "            R[row, col] = np.matmul(Q[:, row], A[:, col])\n",
    "            Q[:, col] = Q[:, col] - R[row, col] * Q[:, row]\n",
    "\n",
    "        R[col, col] = np.linalg.norm(Q[:, col])\n",
    "        Q[:, col] = np.divide(Q[:, col], R[col, col])\n",
    "\n",
    "    return [Q, R]\n",
    "\n",
    "\n",
    "# Make nice array output\n",
    "np.set_printoptions(precision=3)"
   ]
  },
  {
   "cell_type": "markdown",
   "metadata": {},
   "source": [
    "![title](Pic_2.png)"
   ]
  },
  {
   "cell_type": "code",
   "execution_count": 2,
   "metadata": {},
   "outputs": [],
   "source": [
    "# Initialize random array\n",
    "A = np.random.rand(5, 5)\n",
    "\n",
    "# Test my_qr and numpy version\n",
    "[Q, R] = np.linalg.qr(A)\n",
    "[myQ, myR] = my_qr(A)\n",
    "\n",
    "# Compare the results\n",
    "printVariable(Q)\n",
    "printVariable(myQ)\n",
    "printVariable(R)\n",
    "printVariable(myR)"
   ]
  },
  {
   "cell_type": "code",
   "execution_count": 3,
   "metadata": {},
   "outputs": [],
   "source": [
    "# Caution: this method does not always work!\n",
    "# Find a matrix B for which QR does not work (see. part a)\n",
    "B = np.array([[1, 0, 0], [0, 1, 0], [0, 0, 0]])\n",
    "[myQ, myR] = my_qr(B)\n",
    "printVariable(myQ)\n",
    "printVariable(myR)"
   ]
  },
  {
   "cell_type": "markdown",
   "metadata": {},
   "source": [
    "![title](Pic_3.png)"
   ]
  },
  {
   "cell_type": "code",
   "execution_count": 4,
   "metadata": {},
   "outputs": [],
   "source": [
    "# (see. part c)\n",
    "epsilon = pow(10, -9)  # Machine precision of floating point numbers\n",
    "A = np.array([[epsilon, 0], [0, epsilon], [1, 1]])\n",
    "b = np.array([[1], [2], [0]])\n",
    "\n",
    "# Try to solve with the normal equation A^TAx=A^Tb\n",
    "try:\n",
    "    x_ne, residual_ne = np.linalg.solve(np.matmul(A.T, A), np.matmul(A.T, b))\n",
    "except np.linalg.linalg.LinAlgError:\n",
    "    print(\"LinAlg Error: Matrix is Singular\")"
   ]
  },
  {
   "cell_type": "code",
   "execution_count": 5,
   "metadata": {},
   "outputs": [],
   "source": [
    "rank_A = np.linalg.matrix_rank(A)\n",
    "rank_AtA = np.linalg.matrix_rank(np.matmul(A.T, A))\n",
    "printVariable(rank_A)\n",
    "printVariable(rank_AtA)"
   ]
  },
  {
   "cell_type": "code",
   "execution_count": 6,
   "metadata": {},
   "outputs": [],
   "source": [
    "# Solve the least squares problem using QR\n",
    "[Q, R] = my_qr(A)\n",
    "x_qr = np.linalg.solve(R, np.dot(Q.T,b))\n",
    "printVariable(x_qr)\n",
    "\n",
    "\n",
    "# Compare to numpy's least square solution\n",
    "x_ls, residual_ls, rank_A, s_A = np.linalg.lstsq(A, b, None)\n",
    "printVariable(x_ls)\n",
    "printVariable(residual_ls)\n"
   ]
  }
 ],
 "metadata": {
  "kernelspec": {
   "display_name": "Python 3",
   "language": "python",
   "name": "python3"
  },
  "language_info": {
   "codemirror_mode": {
    "name": "ipython",
    "version": 3
   },
   "file_extension": ".py",
   "mimetype": "text/x-python",
   "name": "python",
   "nbconvert_exporter": "python",
   "pygments_lexer": "ipython3",
   "version": "3.7.9"
  }
 },
 "nbformat": 4,
 "nbformat_minor": 2
}
